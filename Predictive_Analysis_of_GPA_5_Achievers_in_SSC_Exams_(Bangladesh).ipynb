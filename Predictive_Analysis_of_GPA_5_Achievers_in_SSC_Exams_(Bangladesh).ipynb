{
  "metadata": {
    "kernelspec": {
      "language": "python",
      "display_name": "Python 3",
      "name": "python3"
    },
    "language_info": {
      "name": "python",
      "version": "3.11.13",
      "mimetype": "text/x-python",
      "codemirror_mode": {
        "name": "ipython",
        "version": 3
      },
      "pygments_lexer": "ipython3",
      "nbconvert_exporter": "python",
      "file_extension": ".py"
    },
    "kaggle": {
      "accelerator": "none",
      "dataSources": [
        {
          "sourceId": 12525931,
          "sourceType": "datasetVersion",
          "datasetId": 7906960
        }
      ],
      "dockerImageVersionId": 31089,
      "isInternetEnabled": true,
      "language": "python",
      "sourceType": "notebook",
      "isGpuEnabled": false
    },
    "colab": {
      "provenance": []
    }
  },
  "nbformat_minor": 0,
  "nbformat": 4,
  "cells": [
    {
      "cell_type": "markdown",
      "source": [
        "# Predictive Analysis of GPA-5 Achievers in SSC Exams (Bangladesh)"
      ],
      "metadata": {
        "id": "PA_goc_pOWE1"
      }
    },
    {
      "cell_type": "markdown",
      "source": [
        "Date: July 21, 2025    \n",
        "Prepared by:  Kumari Shivangi"
      ],
      "metadata": {
        "id": "kVSpRIKQUKI4"
      }
    },
    {
      "cell_type": "markdown",
      "source": [
        "**Introduction**\n",
        "\n",
        "This project explores the application of machine learning to predict the number of students achieving a GPA-5 score in Bangladesh’s SSC examination. The objective is to evaluate multiple regression models on historical exam data spanning from 2001 to 2025. By identifying the most accurate predictive model, we aim to assist educational stakeholders in better understanding student performance trends."
      ],
      "metadata": {
        "id": "W0XzyTwpO2g4"
      }
    },
    {
      "cell_type": "markdown",
      "source": [
        "**Key columns**\n",
        "\n",
        "Year: Exam year (ranging from 2001 to 2025)\n",
        "\n",
        "Total_Examinees: Number of students who appeared\n",
        "\n",
        "Pass_Rate: Percentage of students who passed\n",
        "\n",
        "GPA_5_Count: Number of students who scored GPA 5 (highest score)"
      ],
      "metadata": {
        "id": "1TAsWHPsQSnY"
      }
    },
    {
      "cell_type": "markdown",
      "source": [
        "# Data Preprocessing"
      ],
      "metadata": {
        "id": "OA8XhnGAPrME"
      }
    },
    {
      "cell_type": "code",
      "source": [
        "import numpy as np # linear algebra\n",
        "import pandas as pd # data processing, CSV file I/O (e.g. pd.read_csv)\n",
        "import matplotlib.pyplot as plt\n",
        "import seaborn as sns\n",
        "import warnings\n",
        "warnings.filterwarnings(\"ignore\", category=FutureWarning)"
      ],
      "metadata": {
        "_uuid": "8f2839f25d086af736a60e9eeb907d3b93b6e0e5",
        "_cell_guid": "b1076dfc-b9ad-4769-8c92-a6c4dae69d19",
        "trusted": true,
        "execution": {
          "iopub.status.busy": "2025-07-21T17:07:38.271247Z",
          "iopub.execute_input": "2025-07-21T17:07:38.271577Z",
          "iopub.status.idle": "2025-07-21T17:07:38.280352Z",
          "shell.execute_reply.started": "2025-07-21T17:07:38.271553Z",
          "shell.execute_reply": "2025-07-21T17:07:38.279512Z"
        },
        "id": "ZeWdQCfM_QWk"
      },
      "outputs": [],
      "execution_count": 59
    },
    {
      "cell_type": "code",
      "source": [
        "df = pd.read_csv('/content/SSC Result Trends in Bangladesh (20012025).csv')"
      ],
      "metadata": {
        "trusted": true,
        "execution": {
          "iopub.status.busy": "2025-07-21T17:07:38.289515Z",
          "iopub.execute_input": "2025-07-21T17:07:38.290619Z",
          "iopub.status.idle": "2025-07-21T17:07:38.302865Z",
          "shell.execute_reply.started": "2025-07-21T17:07:38.290571Z",
          "shell.execute_reply": "2025-07-21T17:07:38.301746Z"
        },
        "id": "XHX0NKz6_QWz"
      },
      "outputs": [],
      "execution_count": 60
    },
    {
      "cell_type": "code",
      "source": [
        "df.head(10)"
      ],
      "metadata": {
        "trusted": true,
        "execution": {
          "iopub.status.busy": "2025-07-21T17:07:38.314394Z",
          "iopub.execute_input": "2025-07-21T17:07:38.315339Z",
          "iopub.status.idle": "2025-07-21T17:07:38.325548Z",
          "shell.execute_reply.started": "2025-07-21T17:07:38.315307Z",
          "shell.execute_reply": "2025-07-21T17:07:38.324581Z"
        },
        "colab": {
          "base_uri": "https://localhost:8080/",
          "height": 363
        },
        "id": "zd9qBni9_QW1",
        "outputId": "71c77eaa-0e9d-433b-9e9e-ac01538509be"
      },
      "outputs": [
        {
          "output_type": "execute_result",
          "data": {
            "text/plain": [
              "   Year Total_Examinees Pass_Rate GPA_5_Count\n",
              "0  2001            Null    35.22%          76\n",
              "1  2002        7,84,815    42.18%         327\n",
              "2  2003         921,024    36.85%       1,389\n",
              "3  2004         756,387    50.27%       8,597\n",
              "4  2005         944,015    54.10%      15,631\n",
              "5  2006       10,00,564    62.22%      24,384\n",
              "6  2007       1,024,537    57.37%      25,732\n",
              "7  2008       1,013,301    72.18%      41,917\n",
              "8  2009       1,420,057    67.41%      45,934\n",
              "9  2010       1,206,019    78.19%      52,134"
            ],
            "text/html": [
              "\n",
              "  <div id=\"df-71427a2d-e361-4c4c-8873-0bc9abaf71da\" class=\"colab-df-container\">\n",
              "    <div>\n",
              "<style scoped>\n",
              "    .dataframe tbody tr th:only-of-type {\n",
              "        vertical-align: middle;\n",
              "    }\n",
              "\n",
              "    .dataframe tbody tr th {\n",
              "        vertical-align: top;\n",
              "    }\n",
              "\n",
              "    .dataframe thead th {\n",
              "        text-align: right;\n",
              "    }\n",
              "</style>\n",
              "<table border=\"1\" class=\"dataframe\">\n",
              "  <thead>\n",
              "    <tr style=\"text-align: right;\">\n",
              "      <th></th>\n",
              "      <th>Year</th>\n",
              "      <th>Total_Examinees</th>\n",
              "      <th>Pass_Rate</th>\n",
              "      <th>GPA_5_Count</th>\n",
              "    </tr>\n",
              "  </thead>\n",
              "  <tbody>\n",
              "    <tr>\n",
              "      <th>0</th>\n",
              "      <td>2001</td>\n",
              "      <td>Null</td>\n",
              "      <td>35.22%</td>\n",
              "      <td>76</td>\n",
              "    </tr>\n",
              "    <tr>\n",
              "      <th>1</th>\n",
              "      <td>2002</td>\n",
              "      <td>7,84,815</td>\n",
              "      <td>42.18%</td>\n",
              "      <td>327</td>\n",
              "    </tr>\n",
              "    <tr>\n",
              "      <th>2</th>\n",
              "      <td>2003</td>\n",
              "      <td>921,024</td>\n",
              "      <td>36.85%</td>\n",
              "      <td>1,389</td>\n",
              "    </tr>\n",
              "    <tr>\n",
              "      <th>3</th>\n",
              "      <td>2004</td>\n",
              "      <td>756,387</td>\n",
              "      <td>50.27%</td>\n",
              "      <td>8,597</td>\n",
              "    </tr>\n",
              "    <tr>\n",
              "      <th>4</th>\n",
              "      <td>2005</td>\n",
              "      <td>944,015</td>\n",
              "      <td>54.10%</td>\n",
              "      <td>15,631</td>\n",
              "    </tr>\n",
              "    <tr>\n",
              "      <th>5</th>\n",
              "      <td>2006</td>\n",
              "      <td>10,00,564</td>\n",
              "      <td>62.22%</td>\n",
              "      <td>24,384</td>\n",
              "    </tr>\n",
              "    <tr>\n",
              "      <th>6</th>\n",
              "      <td>2007</td>\n",
              "      <td>1,024,537</td>\n",
              "      <td>57.37%</td>\n",
              "      <td>25,732</td>\n",
              "    </tr>\n",
              "    <tr>\n",
              "      <th>7</th>\n",
              "      <td>2008</td>\n",
              "      <td>1,013,301</td>\n",
              "      <td>72.18%</td>\n",
              "      <td>41,917</td>\n",
              "    </tr>\n",
              "    <tr>\n",
              "      <th>8</th>\n",
              "      <td>2009</td>\n",
              "      <td>1,420,057</td>\n",
              "      <td>67.41%</td>\n",
              "      <td>45,934</td>\n",
              "    </tr>\n",
              "    <tr>\n",
              "      <th>9</th>\n",
              "      <td>2010</td>\n",
              "      <td>1,206,019</td>\n",
              "      <td>78.19%</td>\n",
              "      <td>52,134</td>\n",
              "    </tr>\n",
              "  </tbody>\n",
              "</table>\n",
              "</div>\n",
              "    <div class=\"colab-df-buttons\">\n",
              "\n",
              "  <div class=\"colab-df-container\">\n",
              "    <button class=\"colab-df-convert\" onclick=\"convertToInteractive('df-71427a2d-e361-4c4c-8873-0bc9abaf71da')\"\n",
              "            title=\"Convert this dataframe to an interactive table.\"\n",
              "            style=\"display:none;\">\n",
              "\n",
              "  <svg xmlns=\"http://www.w3.org/2000/svg\" height=\"24px\" viewBox=\"0 -960 960 960\">\n",
              "    <path d=\"M120-120v-720h720v720H120Zm60-500h600v-160H180v160Zm220 220h160v-160H400v160Zm0 220h160v-160H400v160ZM180-400h160v-160H180v160Zm440 0h160v-160H620v160ZM180-180h160v-160H180v160Zm440 0h160v-160H620v160Z\"/>\n",
              "  </svg>\n",
              "    </button>\n",
              "\n",
              "  <style>\n",
              "    .colab-df-container {\n",
              "      display:flex;\n",
              "      gap: 12px;\n",
              "    }\n",
              "\n",
              "    .colab-df-convert {\n",
              "      background-color: #E8F0FE;\n",
              "      border: none;\n",
              "      border-radius: 50%;\n",
              "      cursor: pointer;\n",
              "      display: none;\n",
              "      fill: #1967D2;\n",
              "      height: 32px;\n",
              "      padding: 0 0 0 0;\n",
              "      width: 32px;\n",
              "    }\n",
              "\n",
              "    .colab-df-convert:hover {\n",
              "      background-color: #E2EBFA;\n",
              "      box-shadow: 0px 1px 2px rgba(60, 64, 67, 0.3), 0px 1px 3px 1px rgba(60, 64, 67, 0.15);\n",
              "      fill: #174EA6;\n",
              "    }\n",
              "\n",
              "    .colab-df-buttons div {\n",
              "      margin-bottom: 4px;\n",
              "    }\n",
              "\n",
              "    [theme=dark] .colab-df-convert {\n",
              "      background-color: #3B4455;\n",
              "      fill: #D2E3FC;\n",
              "    }\n",
              "\n",
              "    [theme=dark] .colab-df-convert:hover {\n",
              "      background-color: #434B5C;\n",
              "      box-shadow: 0px 1px 3px 1px rgba(0, 0, 0, 0.15);\n",
              "      filter: drop-shadow(0px 1px 2px rgba(0, 0, 0, 0.3));\n",
              "      fill: #FFFFFF;\n",
              "    }\n",
              "  </style>\n",
              "\n",
              "    <script>\n",
              "      const buttonEl =\n",
              "        document.querySelector('#df-71427a2d-e361-4c4c-8873-0bc9abaf71da button.colab-df-convert');\n",
              "      buttonEl.style.display =\n",
              "        google.colab.kernel.accessAllowed ? 'block' : 'none';\n",
              "\n",
              "      async function convertToInteractive(key) {\n",
              "        const element = document.querySelector('#df-71427a2d-e361-4c4c-8873-0bc9abaf71da');\n",
              "        const dataTable =\n",
              "          await google.colab.kernel.invokeFunction('convertToInteractive',\n",
              "                                                    [key], {});\n",
              "        if (!dataTable) return;\n",
              "\n",
              "        const docLinkHtml = 'Like what you see? Visit the ' +\n",
              "          '<a target=\"_blank\" href=https://colab.research.google.com/notebooks/data_table.ipynb>data table notebook</a>'\n",
              "          + ' to learn more about interactive tables.';\n",
              "        element.innerHTML = '';\n",
              "        dataTable['output_type'] = 'display_data';\n",
              "        await google.colab.output.renderOutput(dataTable, element);\n",
              "        const docLink = document.createElement('div');\n",
              "        docLink.innerHTML = docLinkHtml;\n",
              "        element.appendChild(docLink);\n",
              "      }\n",
              "    </script>\n",
              "  </div>\n",
              "\n",
              "\n",
              "    <div id=\"df-082b6ed3-4c9c-4103-b748-3a4b5ebb5294\">\n",
              "      <button class=\"colab-df-quickchart\" onclick=\"quickchart('df-082b6ed3-4c9c-4103-b748-3a4b5ebb5294')\"\n",
              "                title=\"Suggest charts\"\n",
              "                style=\"display:none;\">\n",
              "\n",
              "<svg xmlns=\"http://www.w3.org/2000/svg\" height=\"24px\"viewBox=\"0 0 24 24\"\n",
              "     width=\"24px\">\n",
              "    <g>\n",
              "        <path d=\"M19 3H5c-1.1 0-2 .9-2 2v14c0 1.1.9 2 2 2h14c1.1 0 2-.9 2-2V5c0-1.1-.9-2-2-2zM9 17H7v-7h2v7zm4 0h-2V7h2v10zm4 0h-2v-4h2v4z\"/>\n",
              "    </g>\n",
              "</svg>\n",
              "      </button>\n",
              "\n",
              "<style>\n",
              "  .colab-df-quickchart {\n",
              "      --bg-color: #E8F0FE;\n",
              "      --fill-color: #1967D2;\n",
              "      --hover-bg-color: #E2EBFA;\n",
              "      --hover-fill-color: #174EA6;\n",
              "      --disabled-fill-color: #AAA;\n",
              "      --disabled-bg-color: #DDD;\n",
              "  }\n",
              "\n",
              "  [theme=dark] .colab-df-quickchart {\n",
              "      --bg-color: #3B4455;\n",
              "      --fill-color: #D2E3FC;\n",
              "      --hover-bg-color: #434B5C;\n",
              "      --hover-fill-color: #FFFFFF;\n",
              "      --disabled-bg-color: #3B4455;\n",
              "      --disabled-fill-color: #666;\n",
              "  }\n",
              "\n",
              "  .colab-df-quickchart {\n",
              "    background-color: var(--bg-color);\n",
              "    border: none;\n",
              "    border-radius: 50%;\n",
              "    cursor: pointer;\n",
              "    display: none;\n",
              "    fill: var(--fill-color);\n",
              "    height: 32px;\n",
              "    padding: 0;\n",
              "    width: 32px;\n",
              "  }\n",
              "\n",
              "  .colab-df-quickchart:hover {\n",
              "    background-color: var(--hover-bg-color);\n",
              "    box-shadow: 0 1px 2px rgba(60, 64, 67, 0.3), 0 1px 3px 1px rgba(60, 64, 67, 0.15);\n",
              "    fill: var(--button-hover-fill-color);\n",
              "  }\n",
              "\n",
              "  .colab-df-quickchart-complete:disabled,\n",
              "  .colab-df-quickchart-complete:disabled:hover {\n",
              "    background-color: var(--disabled-bg-color);\n",
              "    fill: var(--disabled-fill-color);\n",
              "    box-shadow: none;\n",
              "  }\n",
              "\n",
              "  .colab-df-spinner {\n",
              "    border: 2px solid var(--fill-color);\n",
              "    border-color: transparent;\n",
              "    border-bottom-color: var(--fill-color);\n",
              "    animation:\n",
              "      spin 1s steps(1) infinite;\n",
              "  }\n",
              "\n",
              "  @keyframes spin {\n",
              "    0% {\n",
              "      border-color: transparent;\n",
              "      border-bottom-color: var(--fill-color);\n",
              "      border-left-color: var(--fill-color);\n",
              "    }\n",
              "    20% {\n",
              "      border-color: transparent;\n",
              "      border-left-color: var(--fill-color);\n",
              "      border-top-color: var(--fill-color);\n",
              "    }\n",
              "    30% {\n",
              "      border-color: transparent;\n",
              "      border-left-color: var(--fill-color);\n",
              "      border-top-color: var(--fill-color);\n",
              "      border-right-color: var(--fill-color);\n",
              "    }\n",
              "    40% {\n",
              "      border-color: transparent;\n",
              "      border-right-color: var(--fill-color);\n",
              "      border-top-color: var(--fill-color);\n",
              "    }\n",
              "    60% {\n",
              "      border-color: transparent;\n",
              "      border-right-color: var(--fill-color);\n",
              "    }\n",
              "    80% {\n",
              "      border-color: transparent;\n",
              "      border-right-color: var(--fill-color);\n",
              "      border-bottom-color: var(--fill-color);\n",
              "    }\n",
              "    90% {\n",
              "      border-color: transparent;\n",
              "      border-bottom-color: var(--fill-color);\n",
              "    }\n",
              "  }\n",
              "</style>\n",
              "\n",
              "      <script>\n",
              "        async function quickchart(key) {\n",
              "          const quickchartButtonEl =\n",
              "            document.querySelector('#' + key + ' button');\n",
              "          quickchartButtonEl.disabled = true;  // To prevent multiple clicks.\n",
              "          quickchartButtonEl.classList.add('colab-df-spinner');\n",
              "          try {\n",
              "            const charts = await google.colab.kernel.invokeFunction(\n",
              "                'suggestCharts', [key], {});\n",
              "          } catch (error) {\n",
              "            console.error('Error during call to suggestCharts:', error);\n",
              "          }\n",
              "          quickchartButtonEl.classList.remove('colab-df-spinner');\n",
              "          quickchartButtonEl.classList.add('colab-df-quickchart-complete');\n",
              "        }\n",
              "        (() => {\n",
              "          let quickchartButtonEl =\n",
              "            document.querySelector('#df-082b6ed3-4c9c-4103-b748-3a4b5ebb5294 button');\n",
              "          quickchartButtonEl.style.display =\n",
              "            google.colab.kernel.accessAllowed ? 'block' : 'none';\n",
              "        })();\n",
              "      </script>\n",
              "    </div>\n",
              "\n",
              "    </div>\n",
              "  </div>\n"
            ],
            "application/vnd.google.colaboratory.intrinsic+json": {
              "type": "dataframe",
              "variable_name": "df",
              "summary": "{\n  \"name\": \"df\",\n  \"rows\": 25,\n  \"fields\": [\n    {\n      \"column\": \"Year\",\n      \"properties\": {\n        \"dtype\": \"number\",\n        \"std\": 7,\n        \"min\": 2001,\n        \"max\": 2025,\n        \"num_unique_values\": 25,\n        \"samples\": [\n          2009,\n          2017,\n          2001\n        ],\n        \"semantic_type\": \"\",\n        \"description\": \"\"\n      }\n    },\n    {\n      \"column\": \"Total_Examinees\",\n      \"properties\": {\n        \"dtype\": \"string\",\n        \"num_unique_values\": 21,\n        \"samples\": [\n          \"Null\",\n          \"2,187,815\",\n          \"17,86,613\"\n        ],\n        \"semantic_type\": \"\",\n        \"description\": \"\"\n      }\n    },\n    {\n      \"column\": \"Pass_Rate\",\n      \"properties\": {\n        \"dtype\": \"string\",\n        \"num_unique_values\": 25,\n        \"samples\": [\n          \"67.41%\",\n          \"80.35%\",\n          \"35.22%\"\n        ],\n        \"semantic_type\": \"\",\n        \"description\": \"\"\n      }\n    },\n    {\n      \"column\": \"GPA_5_Count\",\n      \"properties\": {\n        \"dtype\": \"string\",\n        \"num_unique_values\": 25,\n        \"samples\": [\n          \"45,934\",\n          \"1,04,761\",\n          \"76\"\n        ],\n        \"semantic_type\": \"\",\n        \"description\": \"\"\n      }\n    }\n  ]\n}"
            }
          },
          "metadata": {},
          "execution_count": 61
        }
      ],
      "execution_count": 61
    },
    {
      "cell_type": "code",
      "source": [
        "df.info()"
      ],
      "metadata": {
        "trusted": true,
        "execution": {
          "iopub.status.busy": "2025-07-21T17:07:38.332452Z",
          "iopub.execute_input": "2025-07-21T17:07:38.333501Z",
          "iopub.status.idle": "2025-07-21T17:07:38.347210Z",
          "shell.execute_reply.started": "2025-07-21T17:07:38.333472Z",
          "shell.execute_reply": "2025-07-21T17:07:38.346298Z"
        },
        "colab": {
          "base_uri": "https://localhost:8080/",
          "height": 0
        },
        "id": "vGTHYTjl_QW3",
        "outputId": "a40ae245-341f-46aa-f8f6-98de49ae9737"
      },
      "outputs": [
        {
          "output_type": "stream",
          "name": "stdout",
          "text": [
            "<class 'pandas.core.frame.DataFrame'>\n",
            "RangeIndex: 25 entries, 0 to 24\n",
            "Data columns (total 4 columns):\n",
            " #   Column           Non-Null Count  Dtype \n",
            "---  ------           --------------  ----- \n",
            " 0   Year             25 non-null     int64 \n",
            " 1   Total_Examinees  25 non-null     object\n",
            " 2   Pass_Rate        25 non-null     object\n",
            " 3   GPA_5_Count      25 non-null     object\n",
            "dtypes: int64(1), object(3)\n",
            "memory usage: 932.0+ bytes\n"
          ]
        }
      ],
      "execution_count": 62
    },
    {
      "cell_type": "markdown",
      "source": [
        "*The dataset had 25 rows (years) and 4 main columns.*"
      ],
      "metadata": {
        "id": "mh_3HtEbQf9N"
      }
    },
    {
      "cell_type": "code",
      "source": [
        "# Replace the string \"Null\" with actual NaN\n",
        "df.replace(\"Null\", np.nan, inplace=True)"
      ],
      "metadata": {
        "trusted": true,
        "execution": {
          "iopub.status.busy": "2025-07-21T17:07:38.348900Z",
          "iopub.execute_input": "2025-07-21T17:07:38.349218Z",
          "iopub.status.idle": "2025-07-21T17:07:38.366764Z",
          "shell.execute_reply.started": "2025-07-21T17:07:38.349197Z",
          "shell.execute_reply": "2025-07-21T17:07:38.365779Z"
        },
        "id": "jQJtQ3sD_QW5"
      },
      "outputs": [],
      "execution_count": 63
    },
    {
      "cell_type": "code",
      "source": [
        "df['Total_Examinees'] = df['Total_Examinees'].str.replace(',', '', regex=False)\n",
        "df['GPA_5_Count'] = df['GPA_5_Count'].str.replace(',', '', regex=False)\n",
        "df['Pass_Rate'] = df['Pass_Rate'].str.replace('%', '', regex=False)\n"
      ],
      "metadata": {
        "trusted": true,
        "execution": {
          "iopub.status.busy": "2025-07-21T17:07:38.369233Z",
          "iopub.execute_input": "2025-07-21T17:07:38.369568Z",
          "iopub.status.idle": "2025-07-21T17:07:38.385966Z",
          "shell.execute_reply.started": "2025-07-21T17:07:38.369545Z",
          "shell.execute_reply": "2025-07-21T17:07:38.384985Z"
        },
        "id": "58sTX_9I_QW6"
      },
      "outputs": [],
      "execution_count": 64
    },
    {
      "cell_type": "code",
      "source": [
        "df.info()"
      ],
      "metadata": {
        "trusted": true,
        "execution": {
          "iopub.status.busy": "2025-07-21T17:07:38.387596Z",
          "iopub.execute_input": "2025-07-21T17:07:38.387908Z",
          "iopub.status.idle": "2025-07-21T17:07:38.408913Z",
          "shell.execute_reply.started": "2025-07-21T17:07:38.387881Z",
          "shell.execute_reply": "2025-07-21T17:07:38.407912Z"
        },
        "colab": {
          "base_uri": "https://localhost:8080/",
          "height": 0
        },
        "id": "zdEBTtmI_QW7",
        "outputId": "4e7c9c3b-5199-4efe-fd7a-083974f72f71"
      },
      "outputs": [
        {
          "output_type": "stream",
          "name": "stdout",
          "text": [
            "<class 'pandas.core.frame.DataFrame'>\n",
            "RangeIndex: 25 entries, 0 to 24\n",
            "Data columns (total 4 columns):\n",
            " #   Column           Non-Null Count  Dtype \n",
            "---  ------           --------------  ----- \n",
            " 0   Year             25 non-null     int64 \n",
            " 1   Total_Examinees  24 non-null     object\n",
            " 2   Pass_Rate        25 non-null     object\n",
            " 3   GPA_5_Count      25 non-null     object\n",
            "dtypes: int64(1), object(3)\n",
            "memory usage: 932.0+ bytes\n"
          ]
        }
      ],
      "execution_count": 65
    },
    {
      "cell_type": "code",
      "source": [
        "# Use errors='coerce' to handle unexpected values gracefully\n",
        "df['Total_Examinees'] = pd.to_numeric(df['Total_Examinees'], errors='coerce').astype('Int64')\n",
        "df['GPA_5_Count'] = pd.to_numeric(df['GPA_5_Count'], errors='coerce').astype('Int64')\n",
        "df['Pass_Rate'] = pd.to_numeric(df['Pass_Rate'], errors='coerce')  # Keep as float"
      ],
      "metadata": {
        "trusted": true,
        "execution": {
          "iopub.status.busy": "2025-07-21T17:07:38.409874Z",
          "iopub.execute_input": "2025-07-21T17:07:38.410202Z",
          "iopub.status.idle": "2025-07-21T17:07:38.427634Z",
          "shell.execute_reply.started": "2025-07-21T17:07:38.410177Z",
          "shell.execute_reply": "2025-07-21T17:07:38.426668Z"
        },
        "id": "OAMXUdno_QW9"
      },
      "outputs": [],
      "execution_count": 66
    },
    {
      "cell_type": "code",
      "source": [
        "df.info()"
      ],
      "metadata": {
        "trusted": true,
        "execution": {
          "iopub.status.busy": "2025-07-21T17:07:38.429028Z",
          "iopub.execute_input": "2025-07-21T17:07:38.429526Z",
          "iopub.status.idle": "2025-07-21T17:07:38.455145Z",
          "shell.execute_reply.started": "2025-07-21T17:07:38.429504Z",
          "shell.execute_reply": "2025-07-21T17:07:38.454148Z"
        },
        "colab": {
          "base_uri": "https://localhost:8080/",
          "height": 0
        },
        "id": "zRuuls81_QW_",
        "outputId": "d997b816-0a62-4229-99e8-5ce9bfb9d8f6"
      },
      "outputs": [
        {
          "output_type": "stream",
          "name": "stdout",
          "text": [
            "<class 'pandas.core.frame.DataFrame'>\n",
            "RangeIndex: 25 entries, 0 to 24\n",
            "Data columns (total 4 columns):\n",
            " #   Column           Non-Null Count  Dtype  \n",
            "---  ------           --------------  -----  \n",
            " 0   Year             25 non-null     int64  \n",
            " 1   Total_Examinees  24 non-null     Int64  \n",
            " 2   Pass_Rate        25 non-null     float64\n",
            " 3   GPA_5_Count      25 non-null     Int64  \n",
            "dtypes: Int64(2), float64(1), int64(1)\n",
            "memory usage: 982.0 bytes\n"
          ]
        }
      ],
      "execution_count": 67
    },
    {
      "cell_type": "code",
      "source": [
        "df.describe()"
      ],
      "metadata": {
        "trusted": true,
        "execution": {
          "iopub.status.busy": "2025-07-21T17:07:38.455905Z",
          "iopub.execute_input": "2025-07-21T17:07:38.456179Z",
          "iopub.status.idle": "2025-07-21T17:07:38.486947Z",
          "shell.execute_reply.started": "2025-07-21T17:07:38.456158Z",
          "shell.execute_reply": "2025-07-21T17:07:38.486196Z"
        },
        "colab": {
          "base_uri": "https://localhost:8080/",
          "height": 300
        },
        "id": "WLg9YAsZ_QXA",
        "outputId": "126a2a5a-da71-4044-d024-c43e401bd610"
      },
      "outputs": [
        {
          "output_type": "execute_result",
          "data": {
            "text/plain": [
              "              Year  Total_Examinees  Pass_Rate   GPA_5_Count\n",
              "count    25.000000             24.0  25.000000          25.0\n",
              "mean   2013.000000      1490229.125  72.655200      89213.92\n",
              "std       7.359801    469630.020129  17.474546  70204.741308\n",
              "min    2001.000000         756387.0  35.220000          76.0\n",
              "25%    2007.000000        1021728.0  62.220000       25732.0\n",
              "50%    2013.000000        1423490.0  80.350000       91226.0\n",
              "75%    2019.000000        2024192.0  86.320000      135898.0\n",
              "max    2025.000000        2187815.0  93.580000      269602.0"
            ],
            "text/html": [
              "\n",
              "  <div id=\"df-f85abcee-2df0-4597-b710-7f257898e8d2\" class=\"colab-df-container\">\n",
              "    <div>\n",
              "<style scoped>\n",
              "    .dataframe tbody tr th:only-of-type {\n",
              "        vertical-align: middle;\n",
              "    }\n",
              "\n",
              "    .dataframe tbody tr th {\n",
              "        vertical-align: top;\n",
              "    }\n",
              "\n",
              "    .dataframe thead th {\n",
              "        text-align: right;\n",
              "    }\n",
              "</style>\n",
              "<table border=\"1\" class=\"dataframe\">\n",
              "  <thead>\n",
              "    <tr style=\"text-align: right;\">\n",
              "      <th></th>\n",
              "      <th>Year</th>\n",
              "      <th>Total_Examinees</th>\n",
              "      <th>Pass_Rate</th>\n",
              "      <th>GPA_5_Count</th>\n",
              "    </tr>\n",
              "  </thead>\n",
              "  <tbody>\n",
              "    <tr>\n",
              "      <th>count</th>\n",
              "      <td>25.000000</td>\n",
              "      <td>24.0</td>\n",
              "      <td>25.000000</td>\n",
              "      <td>25.0</td>\n",
              "    </tr>\n",
              "    <tr>\n",
              "      <th>mean</th>\n",
              "      <td>2013.000000</td>\n",
              "      <td>1490229.125</td>\n",
              "      <td>72.655200</td>\n",
              "      <td>89213.92</td>\n",
              "    </tr>\n",
              "    <tr>\n",
              "      <th>std</th>\n",
              "      <td>7.359801</td>\n",
              "      <td>469630.020129</td>\n",
              "      <td>17.474546</td>\n",
              "      <td>70204.741308</td>\n",
              "    </tr>\n",
              "    <tr>\n",
              "      <th>min</th>\n",
              "      <td>2001.000000</td>\n",
              "      <td>756387.0</td>\n",
              "      <td>35.220000</td>\n",
              "      <td>76.0</td>\n",
              "    </tr>\n",
              "    <tr>\n",
              "      <th>25%</th>\n",
              "      <td>2007.000000</td>\n",
              "      <td>1021728.0</td>\n",
              "      <td>62.220000</td>\n",
              "      <td>25732.0</td>\n",
              "    </tr>\n",
              "    <tr>\n",
              "      <th>50%</th>\n",
              "      <td>2013.000000</td>\n",
              "      <td>1423490.0</td>\n",
              "      <td>80.350000</td>\n",
              "      <td>91226.0</td>\n",
              "    </tr>\n",
              "    <tr>\n",
              "      <th>75%</th>\n",
              "      <td>2019.000000</td>\n",
              "      <td>2024192.0</td>\n",
              "      <td>86.320000</td>\n",
              "      <td>135898.0</td>\n",
              "    </tr>\n",
              "    <tr>\n",
              "      <th>max</th>\n",
              "      <td>2025.000000</td>\n",
              "      <td>2187815.0</td>\n",
              "      <td>93.580000</td>\n",
              "      <td>269602.0</td>\n",
              "    </tr>\n",
              "  </tbody>\n",
              "</table>\n",
              "</div>\n",
              "    <div class=\"colab-df-buttons\">\n",
              "\n",
              "  <div class=\"colab-df-container\">\n",
              "    <button class=\"colab-df-convert\" onclick=\"convertToInteractive('df-f85abcee-2df0-4597-b710-7f257898e8d2')\"\n",
              "            title=\"Convert this dataframe to an interactive table.\"\n",
              "            style=\"display:none;\">\n",
              "\n",
              "  <svg xmlns=\"http://www.w3.org/2000/svg\" height=\"24px\" viewBox=\"0 -960 960 960\">\n",
              "    <path d=\"M120-120v-720h720v720H120Zm60-500h600v-160H180v160Zm220 220h160v-160H400v160Zm0 220h160v-160H400v160ZM180-400h160v-160H180v160Zm440 0h160v-160H620v160ZM180-180h160v-160H180v160Zm440 0h160v-160H620v160Z\"/>\n",
              "  </svg>\n",
              "    </button>\n",
              "\n",
              "  <style>\n",
              "    .colab-df-container {\n",
              "      display:flex;\n",
              "      gap: 12px;\n",
              "    }\n",
              "\n",
              "    .colab-df-convert {\n",
              "      background-color: #E8F0FE;\n",
              "      border: none;\n",
              "      border-radius: 50%;\n",
              "      cursor: pointer;\n",
              "      display: none;\n",
              "      fill: #1967D2;\n",
              "      height: 32px;\n",
              "      padding: 0 0 0 0;\n",
              "      width: 32px;\n",
              "    }\n",
              "\n",
              "    .colab-df-convert:hover {\n",
              "      background-color: #E2EBFA;\n",
              "      box-shadow: 0px 1px 2px rgba(60, 64, 67, 0.3), 0px 1px 3px 1px rgba(60, 64, 67, 0.15);\n",
              "      fill: #174EA6;\n",
              "    }\n",
              "\n",
              "    .colab-df-buttons div {\n",
              "      margin-bottom: 4px;\n",
              "    }\n",
              "\n",
              "    [theme=dark] .colab-df-convert {\n",
              "      background-color: #3B4455;\n",
              "      fill: #D2E3FC;\n",
              "    }\n",
              "\n",
              "    [theme=dark] .colab-df-convert:hover {\n",
              "      background-color: #434B5C;\n",
              "      box-shadow: 0px 1px 3px 1px rgba(0, 0, 0, 0.15);\n",
              "      filter: drop-shadow(0px 1px 2px rgba(0, 0, 0, 0.3));\n",
              "      fill: #FFFFFF;\n",
              "    }\n",
              "  </style>\n",
              "\n",
              "    <script>\n",
              "      const buttonEl =\n",
              "        document.querySelector('#df-f85abcee-2df0-4597-b710-7f257898e8d2 button.colab-df-convert');\n",
              "      buttonEl.style.display =\n",
              "        google.colab.kernel.accessAllowed ? 'block' : 'none';\n",
              "\n",
              "      async function convertToInteractive(key) {\n",
              "        const element = document.querySelector('#df-f85abcee-2df0-4597-b710-7f257898e8d2');\n",
              "        const dataTable =\n",
              "          await google.colab.kernel.invokeFunction('convertToInteractive',\n",
              "                                                    [key], {});\n",
              "        if (!dataTable) return;\n",
              "\n",
              "        const docLinkHtml = 'Like what you see? Visit the ' +\n",
              "          '<a target=\"_blank\" href=https://colab.research.google.com/notebooks/data_table.ipynb>data table notebook</a>'\n",
              "          + ' to learn more about interactive tables.';\n",
              "        element.innerHTML = '';\n",
              "        dataTable['output_type'] = 'display_data';\n",
              "        await google.colab.output.renderOutput(dataTable, element);\n",
              "        const docLink = document.createElement('div');\n",
              "        docLink.innerHTML = docLinkHtml;\n",
              "        element.appendChild(docLink);\n",
              "      }\n",
              "    </script>\n",
              "  </div>\n",
              "\n",
              "\n",
              "    <div id=\"df-7646d107-20d1-4697-ba89-3fbf3d527123\">\n",
              "      <button class=\"colab-df-quickchart\" onclick=\"quickchart('df-7646d107-20d1-4697-ba89-3fbf3d527123')\"\n",
              "                title=\"Suggest charts\"\n",
              "                style=\"display:none;\">\n",
              "\n",
              "<svg xmlns=\"http://www.w3.org/2000/svg\" height=\"24px\"viewBox=\"0 0 24 24\"\n",
              "     width=\"24px\">\n",
              "    <g>\n",
              "        <path d=\"M19 3H5c-1.1 0-2 .9-2 2v14c0 1.1.9 2 2 2h14c1.1 0 2-.9 2-2V5c0-1.1-.9-2-2-2zM9 17H7v-7h2v7zm4 0h-2V7h2v10zm4 0h-2v-4h2v4z\"/>\n",
              "    </g>\n",
              "</svg>\n",
              "      </button>\n",
              "\n",
              "<style>\n",
              "  .colab-df-quickchart {\n",
              "      --bg-color: #E8F0FE;\n",
              "      --fill-color: #1967D2;\n",
              "      --hover-bg-color: #E2EBFA;\n",
              "      --hover-fill-color: #174EA6;\n",
              "      --disabled-fill-color: #AAA;\n",
              "      --disabled-bg-color: #DDD;\n",
              "  }\n",
              "\n",
              "  [theme=dark] .colab-df-quickchart {\n",
              "      --bg-color: #3B4455;\n",
              "      --fill-color: #D2E3FC;\n",
              "      --hover-bg-color: #434B5C;\n",
              "      --hover-fill-color: #FFFFFF;\n",
              "      --disabled-bg-color: #3B4455;\n",
              "      --disabled-fill-color: #666;\n",
              "  }\n",
              "\n",
              "  .colab-df-quickchart {\n",
              "    background-color: var(--bg-color);\n",
              "    border: none;\n",
              "    border-radius: 50%;\n",
              "    cursor: pointer;\n",
              "    display: none;\n",
              "    fill: var(--fill-color);\n",
              "    height: 32px;\n",
              "    padding: 0;\n",
              "    width: 32px;\n",
              "  }\n",
              "\n",
              "  .colab-df-quickchart:hover {\n",
              "    background-color: var(--hover-bg-color);\n",
              "    box-shadow: 0 1px 2px rgba(60, 64, 67, 0.3), 0 1px 3px 1px rgba(60, 64, 67, 0.15);\n",
              "    fill: var(--button-hover-fill-color);\n",
              "  }\n",
              "\n",
              "  .colab-df-quickchart-complete:disabled,\n",
              "  .colab-df-quickchart-complete:disabled:hover {\n",
              "    background-color: var(--disabled-bg-color);\n",
              "    fill: var(--disabled-fill-color);\n",
              "    box-shadow: none;\n",
              "  }\n",
              "\n",
              "  .colab-df-spinner {\n",
              "    border: 2px solid var(--fill-color);\n",
              "    border-color: transparent;\n",
              "    border-bottom-color: var(--fill-color);\n",
              "    animation:\n",
              "      spin 1s steps(1) infinite;\n",
              "  }\n",
              "\n",
              "  @keyframes spin {\n",
              "    0% {\n",
              "      border-color: transparent;\n",
              "      border-bottom-color: var(--fill-color);\n",
              "      border-left-color: var(--fill-color);\n",
              "    }\n",
              "    20% {\n",
              "      border-color: transparent;\n",
              "      border-left-color: var(--fill-color);\n",
              "      border-top-color: var(--fill-color);\n",
              "    }\n",
              "    30% {\n",
              "      border-color: transparent;\n",
              "      border-left-color: var(--fill-color);\n",
              "      border-top-color: var(--fill-color);\n",
              "      border-right-color: var(--fill-color);\n",
              "    }\n",
              "    40% {\n",
              "      border-color: transparent;\n",
              "      border-right-color: var(--fill-color);\n",
              "      border-top-color: var(--fill-color);\n",
              "    }\n",
              "    60% {\n",
              "      border-color: transparent;\n",
              "      border-right-color: var(--fill-color);\n",
              "    }\n",
              "    80% {\n",
              "      border-color: transparent;\n",
              "      border-right-color: var(--fill-color);\n",
              "      border-bottom-color: var(--fill-color);\n",
              "    }\n",
              "    90% {\n",
              "      border-color: transparent;\n",
              "      border-bottom-color: var(--fill-color);\n",
              "    }\n",
              "  }\n",
              "</style>\n",
              "\n",
              "      <script>\n",
              "        async function quickchart(key) {\n",
              "          const quickchartButtonEl =\n",
              "            document.querySelector('#' + key + ' button');\n",
              "          quickchartButtonEl.disabled = true;  // To prevent multiple clicks.\n",
              "          quickchartButtonEl.classList.add('colab-df-spinner');\n",
              "          try {\n",
              "            const charts = await google.colab.kernel.invokeFunction(\n",
              "                'suggestCharts', [key], {});\n",
              "          } catch (error) {\n",
              "            console.error('Error during call to suggestCharts:', error);\n",
              "          }\n",
              "          quickchartButtonEl.classList.remove('colab-df-spinner');\n",
              "          quickchartButtonEl.classList.add('colab-df-quickchart-complete');\n",
              "        }\n",
              "        (() => {\n",
              "          let quickchartButtonEl =\n",
              "            document.querySelector('#df-7646d107-20d1-4697-ba89-3fbf3d527123 button');\n",
              "          quickchartButtonEl.style.display =\n",
              "            google.colab.kernel.accessAllowed ? 'block' : 'none';\n",
              "        })();\n",
              "      </script>\n",
              "    </div>\n",
              "\n",
              "    </div>\n",
              "  </div>\n"
            ],
            "application/vnd.google.colaboratory.intrinsic+json": {
              "type": "dataframe",
              "summary": "{\n  \"name\": \"df\",\n  \"rows\": 8,\n  \"fields\": [\n    {\n      \"column\": \"Year\",\n      \"properties\": {\n        \"dtype\": \"number\",\n        \"std\": 924.3879329278934,\n        \"min\": 7.359800721939872,\n        \"max\": 2025.0,\n        \"num_unique_values\": 7,\n        \"samples\": [\n          25.0,\n          2013.0,\n          2019.0\n        ],\n        \"semantic_type\": \"\",\n        \"description\": \"\"\n      }\n    },\n    {\n      \"column\": \"Total_Examinees\",\n      \"properties\": {\n        \"dtype\": \"Float64\",\n        \"num_unique_values\": 8,\n        \"samples\": [\n          1490229.125,\n          1423490.0,\n          24.0\n        ],\n        \"semantic_type\": \"\",\n        \"description\": \"\"\n      }\n    },\n    {\n      \"column\": \"Pass_Rate\",\n      \"properties\": {\n        \"dtype\": \"number\",\n        \"std\": 29.375845071389932,\n        \"min\": 17.474546040837037,\n        \"max\": 93.58,\n        \"num_unique_values\": 8,\n        \"samples\": [\n          72.65520000000001,\n          80.35,\n          25.0\n        ],\n        \"semantic_type\": \"\",\n        \"description\": \"\"\n      }\n    },\n    {\n      \"column\": \"GPA_5_Count\",\n      \"properties\": {\n        \"dtype\": \"Float64\",\n        \"num_unique_values\": 8,\n        \"samples\": [\n          89213.92,\n          91226.0,\n          25.0\n        ],\n        \"semantic_type\": \"\",\n        \"description\": \"\"\n      }\n    }\n  ]\n}"
            }
          },
          "metadata": {},
          "execution_count": 68
        }
      ],
      "execution_count": 68
    },
    {
      "cell_type": "markdown",
      "source": [
        "GPA_5_Count mean: ~89,214\n",
        "\n",
        "Min GPA 5 achievers: 76 (in 2001)\n",
        "\n",
        "Max GPA 5 achievers: 269,602 (in 2023 or 2025) *italicized text*"
      ],
      "metadata": {
        "id": "SqygxkL1QlJd"
      }
    },
    {
      "cell_type": "code",
      "source": [
        "df['Total_Examinees'] = pd.to_numeric(df['Total_Examinees'], errors='coerce')\n",
        "mean_val = round(df['Total_Examinees'].mean())  # round the float mean to integer\n",
        "df['Total_Examinees'].fillna(mean_val, inplace=True)\n"
      ],
      "metadata": {
        "trusted": true,
        "execution": {
          "iopub.status.busy": "2025-07-21T17:07:38.488550Z",
          "iopub.execute_input": "2025-07-21T17:07:38.489181Z",
          "iopub.status.idle": "2025-07-21T17:07:38.495402Z",
          "shell.execute_reply.started": "2025-07-21T17:07:38.489158Z",
          "shell.execute_reply": "2025-07-21T17:07:38.494542Z"
        },
        "id": "fpFhRwWZ_QXC"
      },
      "outputs": [],
      "execution_count": 69
    },
    {
      "cell_type": "code",
      "source": [
        "print(df.dtypes)\n",
        "print(\"__________________________________\")\n",
        "print(df.isnull().sum())\n"
      ],
      "metadata": {
        "trusted": true,
        "execution": {
          "iopub.status.busy": "2025-07-21T17:07:38.496649Z",
          "iopub.execute_input": "2025-07-21T17:07:38.497201Z",
          "iopub.status.idle": "2025-07-21T17:07:38.515536Z",
          "shell.execute_reply.started": "2025-07-21T17:07:38.497170Z",
          "shell.execute_reply": "2025-07-21T17:07:38.514550Z"
        },
        "colab": {
          "base_uri": "https://localhost:8080/",
          "height": 0
        },
        "id": "dBrsNo54_QXD",
        "outputId": "87bb9ca4-069b-4ffc-a8c6-4499d3b90b99"
      },
      "outputs": [
        {
          "output_type": "stream",
          "name": "stdout",
          "text": [
            "Year                 int64\n",
            "Total_Examinees      Int64\n",
            "Pass_Rate          float64\n",
            "GPA_5_Count          Int64\n",
            "dtype: object\n",
            "__________________________________\n",
            "Year               0\n",
            "Total_Examinees    0\n",
            "Pass_Rate          0\n",
            "GPA_5_Count        0\n",
            "dtype: int64\n"
          ]
        }
      ],
      "execution_count": 70
    },
    {
      "cell_type": "code",
      "source": [
        "df.duplicated().sum()"
      ],
      "metadata": {
        "trusted": true,
        "execution": {
          "iopub.status.busy": "2025-07-21T17:07:38.517102Z",
          "iopub.execute_input": "2025-07-21T17:07:38.517452Z",
          "iopub.status.idle": "2025-07-21T17:07:38.535144Z",
          "shell.execute_reply.started": "2025-07-21T17:07:38.517423Z",
          "shell.execute_reply": "2025-07-21T17:07:38.534443Z"
        },
        "colab": {
          "base_uri": "https://localhost:8080/",
          "height": 0
        },
        "id": "M8YNJDAZ_QXE",
        "outputId": "bb89c490-b1a6-43d3-94c7-5183a3002161"
      },
      "outputs": [
        {
          "output_type": "execute_result",
          "data": {
            "text/plain": [
              "np.int64(0)"
            ]
          },
          "metadata": {},
          "execution_count": 71
        }
      ],
      "execution_count": 71
    },
    {
      "cell_type": "code",
      "source": [
        "df.head()"
      ],
      "metadata": {
        "trusted": true,
        "execution": {
          "iopub.status.busy": "2025-07-21T17:07:38.547844Z",
          "iopub.execute_input": "2025-07-21T17:07:38.548128Z",
          "iopub.status.idle": "2025-07-21T17:07:38.557902Z",
          "shell.execute_reply.started": "2025-07-21T17:07:38.548107Z",
          "shell.execute_reply": "2025-07-21T17:07:38.556902Z"
        },
        "colab": {
          "base_uri": "https://localhost:8080/",
          "height": 206
        },
        "id": "EjP3GSXO_QXE",
        "outputId": "e01d1c9b-e590-4896-fc35-2cd837a4d660"
      },
      "outputs": [
        {
          "output_type": "execute_result",
          "data": {
            "text/plain": [
              "   Year  Total_Examinees  Pass_Rate  GPA_5_Count\n",
              "0  2001          1490229      35.22           76\n",
              "1  2002           784815      42.18          327\n",
              "2  2003           921024      36.85         1389\n",
              "3  2004           756387      50.27         8597\n",
              "4  2005           944015      54.10        15631"
            ],
            "text/html": [
              "\n",
              "  <div id=\"df-5b14a251-427a-488d-af87-098b17e394df\" class=\"colab-df-container\">\n",
              "    <div>\n",
              "<style scoped>\n",
              "    .dataframe tbody tr th:only-of-type {\n",
              "        vertical-align: middle;\n",
              "    }\n",
              "\n",
              "    .dataframe tbody tr th {\n",
              "        vertical-align: top;\n",
              "    }\n",
              "\n",
              "    .dataframe thead th {\n",
              "        text-align: right;\n",
              "    }\n",
              "</style>\n",
              "<table border=\"1\" class=\"dataframe\">\n",
              "  <thead>\n",
              "    <tr style=\"text-align: right;\">\n",
              "      <th></th>\n",
              "      <th>Year</th>\n",
              "      <th>Total_Examinees</th>\n",
              "      <th>Pass_Rate</th>\n",
              "      <th>GPA_5_Count</th>\n",
              "    </tr>\n",
              "  </thead>\n",
              "  <tbody>\n",
              "    <tr>\n",
              "      <th>0</th>\n",
              "      <td>2001</td>\n",
              "      <td>1490229</td>\n",
              "      <td>35.22</td>\n",
              "      <td>76</td>\n",
              "    </tr>\n",
              "    <tr>\n",
              "      <th>1</th>\n",
              "      <td>2002</td>\n",
              "      <td>784815</td>\n",
              "      <td>42.18</td>\n",
              "      <td>327</td>\n",
              "    </tr>\n",
              "    <tr>\n",
              "      <th>2</th>\n",
              "      <td>2003</td>\n",
              "      <td>921024</td>\n",
              "      <td>36.85</td>\n",
              "      <td>1389</td>\n",
              "    </tr>\n",
              "    <tr>\n",
              "      <th>3</th>\n",
              "      <td>2004</td>\n",
              "      <td>756387</td>\n",
              "      <td>50.27</td>\n",
              "      <td>8597</td>\n",
              "    </tr>\n",
              "    <tr>\n",
              "      <th>4</th>\n",
              "      <td>2005</td>\n",
              "      <td>944015</td>\n",
              "      <td>54.10</td>\n",
              "      <td>15631</td>\n",
              "    </tr>\n",
              "  </tbody>\n",
              "</table>\n",
              "</div>\n",
              "    <div class=\"colab-df-buttons\">\n",
              "\n",
              "  <div class=\"colab-df-container\">\n",
              "    <button class=\"colab-df-convert\" onclick=\"convertToInteractive('df-5b14a251-427a-488d-af87-098b17e394df')\"\n",
              "            title=\"Convert this dataframe to an interactive table.\"\n",
              "            style=\"display:none;\">\n",
              "\n",
              "  <svg xmlns=\"http://www.w3.org/2000/svg\" height=\"24px\" viewBox=\"0 -960 960 960\">\n",
              "    <path d=\"M120-120v-720h720v720H120Zm60-500h600v-160H180v160Zm220 220h160v-160H400v160Zm0 220h160v-160H400v160ZM180-400h160v-160H180v160Zm440 0h160v-160H620v160ZM180-180h160v-160H180v160Zm440 0h160v-160H620v160Z\"/>\n",
              "  </svg>\n",
              "    </button>\n",
              "\n",
              "  <style>\n",
              "    .colab-df-container {\n",
              "      display:flex;\n",
              "      gap: 12px;\n",
              "    }\n",
              "\n",
              "    .colab-df-convert {\n",
              "      background-color: #E8F0FE;\n",
              "      border: none;\n",
              "      border-radius: 50%;\n",
              "      cursor: pointer;\n",
              "      display: none;\n",
              "      fill: #1967D2;\n",
              "      height: 32px;\n",
              "      padding: 0 0 0 0;\n",
              "      width: 32px;\n",
              "    }\n",
              "\n",
              "    .colab-df-convert:hover {\n",
              "      background-color: #E2EBFA;\n",
              "      box-shadow: 0px 1px 2px rgba(60, 64, 67, 0.3), 0px 1px 3px 1px rgba(60, 64, 67, 0.15);\n",
              "      fill: #174EA6;\n",
              "    }\n",
              "\n",
              "    .colab-df-buttons div {\n",
              "      margin-bottom: 4px;\n",
              "    }\n",
              "\n",
              "    [theme=dark] .colab-df-convert {\n",
              "      background-color: #3B4455;\n",
              "      fill: #D2E3FC;\n",
              "    }\n",
              "\n",
              "    [theme=dark] .colab-df-convert:hover {\n",
              "      background-color: #434B5C;\n",
              "      box-shadow: 0px 1px 3px 1px rgba(0, 0, 0, 0.15);\n",
              "      filter: drop-shadow(0px 1px 2px rgba(0, 0, 0, 0.3));\n",
              "      fill: #FFFFFF;\n",
              "    }\n",
              "  </style>\n",
              "\n",
              "    <script>\n",
              "      const buttonEl =\n",
              "        document.querySelector('#df-5b14a251-427a-488d-af87-098b17e394df button.colab-df-convert');\n",
              "      buttonEl.style.display =\n",
              "        google.colab.kernel.accessAllowed ? 'block' : 'none';\n",
              "\n",
              "      async function convertToInteractive(key) {\n",
              "        const element = document.querySelector('#df-5b14a251-427a-488d-af87-098b17e394df');\n",
              "        const dataTable =\n",
              "          await google.colab.kernel.invokeFunction('convertToInteractive',\n",
              "                                                    [key], {});\n",
              "        if (!dataTable) return;\n",
              "\n",
              "        const docLinkHtml = 'Like what you see? Visit the ' +\n",
              "          '<a target=\"_blank\" href=https://colab.research.google.com/notebooks/data_table.ipynb>data table notebook</a>'\n",
              "          + ' to learn more about interactive tables.';\n",
              "        element.innerHTML = '';\n",
              "        dataTable['output_type'] = 'display_data';\n",
              "        await google.colab.output.renderOutput(dataTable, element);\n",
              "        const docLink = document.createElement('div');\n",
              "        docLink.innerHTML = docLinkHtml;\n",
              "        element.appendChild(docLink);\n",
              "      }\n",
              "    </script>\n",
              "  </div>\n",
              "\n",
              "\n",
              "    <div id=\"df-cf553da2-b3bf-47ce-bd45-cd6937d93538\">\n",
              "      <button class=\"colab-df-quickchart\" onclick=\"quickchart('df-cf553da2-b3bf-47ce-bd45-cd6937d93538')\"\n",
              "                title=\"Suggest charts\"\n",
              "                style=\"display:none;\">\n",
              "\n",
              "<svg xmlns=\"http://www.w3.org/2000/svg\" height=\"24px\"viewBox=\"0 0 24 24\"\n",
              "     width=\"24px\">\n",
              "    <g>\n",
              "        <path d=\"M19 3H5c-1.1 0-2 .9-2 2v14c0 1.1.9 2 2 2h14c1.1 0 2-.9 2-2V5c0-1.1-.9-2-2-2zM9 17H7v-7h2v7zm4 0h-2V7h2v10zm4 0h-2v-4h2v4z\"/>\n",
              "    </g>\n",
              "</svg>\n",
              "      </button>\n",
              "\n",
              "<style>\n",
              "  .colab-df-quickchart {\n",
              "      --bg-color: #E8F0FE;\n",
              "      --fill-color: #1967D2;\n",
              "      --hover-bg-color: #E2EBFA;\n",
              "      --hover-fill-color: #174EA6;\n",
              "      --disabled-fill-color: #AAA;\n",
              "      --disabled-bg-color: #DDD;\n",
              "  }\n",
              "\n",
              "  [theme=dark] .colab-df-quickchart {\n",
              "      --bg-color: #3B4455;\n",
              "      --fill-color: #D2E3FC;\n",
              "      --hover-bg-color: #434B5C;\n",
              "      --hover-fill-color: #FFFFFF;\n",
              "      --disabled-bg-color: #3B4455;\n",
              "      --disabled-fill-color: #666;\n",
              "  }\n",
              "\n",
              "  .colab-df-quickchart {\n",
              "    background-color: var(--bg-color);\n",
              "    border: none;\n",
              "    border-radius: 50%;\n",
              "    cursor: pointer;\n",
              "    display: none;\n",
              "    fill: var(--fill-color);\n",
              "    height: 32px;\n",
              "    padding: 0;\n",
              "    width: 32px;\n",
              "  }\n",
              "\n",
              "  .colab-df-quickchart:hover {\n",
              "    background-color: var(--hover-bg-color);\n",
              "    box-shadow: 0 1px 2px rgba(60, 64, 67, 0.3), 0 1px 3px 1px rgba(60, 64, 67, 0.15);\n",
              "    fill: var(--button-hover-fill-color);\n",
              "  }\n",
              "\n",
              "  .colab-df-quickchart-complete:disabled,\n",
              "  .colab-df-quickchart-complete:disabled:hover {\n",
              "    background-color: var(--disabled-bg-color);\n",
              "    fill: var(--disabled-fill-color);\n",
              "    box-shadow: none;\n",
              "  }\n",
              "\n",
              "  .colab-df-spinner {\n",
              "    border: 2px solid var(--fill-color);\n",
              "    border-color: transparent;\n",
              "    border-bottom-color: var(--fill-color);\n",
              "    animation:\n",
              "      spin 1s steps(1) infinite;\n",
              "  }\n",
              "\n",
              "  @keyframes spin {\n",
              "    0% {\n",
              "      border-color: transparent;\n",
              "      border-bottom-color: var(--fill-color);\n",
              "      border-left-color: var(--fill-color);\n",
              "    }\n",
              "    20% {\n",
              "      border-color: transparent;\n",
              "      border-left-color: var(--fill-color);\n",
              "      border-top-color: var(--fill-color);\n",
              "    }\n",
              "    30% {\n",
              "      border-color: transparent;\n",
              "      border-left-color: var(--fill-color);\n",
              "      border-top-color: var(--fill-color);\n",
              "      border-right-color: var(--fill-color);\n",
              "    }\n",
              "    40% {\n",
              "      border-color: transparent;\n",
              "      border-right-color: var(--fill-color);\n",
              "      border-top-color: var(--fill-color);\n",
              "    }\n",
              "    60% {\n",
              "      border-color: transparent;\n",
              "      border-right-color: var(--fill-color);\n",
              "    }\n",
              "    80% {\n",
              "      border-color: transparent;\n",
              "      border-right-color: var(--fill-color);\n",
              "      border-bottom-color: var(--fill-color);\n",
              "    }\n",
              "    90% {\n",
              "      border-color: transparent;\n",
              "      border-bottom-color: var(--fill-color);\n",
              "    }\n",
              "  }\n",
              "</style>\n",
              "\n",
              "      <script>\n",
              "        async function quickchart(key) {\n",
              "          const quickchartButtonEl =\n",
              "            document.querySelector('#' + key + ' button');\n",
              "          quickchartButtonEl.disabled = true;  // To prevent multiple clicks.\n",
              "          quickchartButtonEl.classList.add('colab-df-spinner');\n",
              "          try {\n",
              "            const charts = await google.colab.kernel.invokeFunction(\n",
              "                'suggestCharts', [key], {});\n",
              "          } catch (error) {\n",
              "            console.error('Error during call to suggestCharts:', error);\n",
              "          }\n",
              "          quickchartButtonEl.classList.remove('colab-df-spinner');\n",
              "          quickchartButtonEl.classList.add('colab-df-quickchart-complete');\n",
              "        }\n",
              "        (() => {\n",
              "          let quickchartButtonEl =\n",
              "            document.querySelector('#df-cf553da2-b3bf-47ce-bd45-cd6937d93538 button');\n",
              "          quickchartButtonEl.style.display =\n",
              "            google.colab.kernel.accessAllowed ? 'block' : 'none';\n",
              "        })();\n",
              "      </script>\n",
              "    </div>\n",
              "\n",
              "    </div>\n",
              "  </div>\n"
            ],
            "application/vnd.google.colaboratory.intrinsic+json": {
              "type": "dataframe",
              "variable_name": "df",
              "summary": "{\n  \"name\": \"df\",\n  \"rows\": 25,\n  \"fields\": [\n    {\n      \"column\": \"Year\",\n      \"properties\": {\n        \"dtype\": \"number\",\n        \"std\": 7,\n        \"min\": 2001,\n        \"max\": 2025,\n        \"num_unique_values\": 25,\n        \"samples\": [\n          2009,\n          2017,\n          2001\n        ],\n        \"semantic_type\": \"\",\n        \"description\": \"\"\n      }\n    },\n    {\n      \"column\": \"Total_Examinees\",\n      \"properties\": {\n        \"dtype\": \"Int64\",\n        \"num_unique_values\": 21,\n        \"samples\": [\n          1490229,\n          2187815,\n          1786613\n        ],\n        \"semantic_type\": \"\",\n        \"description\": \"\"\n      }\n    },\n    {\n      \"column\": \"Pass_Rate\",\n      \"properties\": {\n        \"dtype\": \"number\",\n        \"std\": 17.474546040837037,\n        \"min\": 35.22,\n        \"max\": 93.58,\n        \"num_unique_values\": 25,\n        \"samples\": [\n          67.41,\n          80.35,\n          35.22\n        ],\n        \"semantic_type\": \"\",\n        \"description\": \"\"\n      }\n    },\n    {\n      \"column\": \"GPA_5_Count\",\n      \"properties\": {\n        \"dtype\": \"Int64\",\n        \"num_unique_values\": 25,\n        \"samples\": [\n          45934,\n          104761,\n          76\n        ],\n        \"semantic_type\": \"\",\n        \"description\": \"\"\n      }\n    }\n  ]\n}"
            }
          },
          "metadata": {},
          "execution_count": 72
        }
      ],
      "execution_count": 72
    },
    {
      "cell_type": "code",
      "source": [
        "plt.figure(figsize=(8, 6))\n",
        "sns.heatmap(df.corr(numeric_only=True), annot=True, cmap='coolwarm', fmt=\".2f\", linewidths=0.5)\n",
        "plt.title('Correlation Matrix')\n",
        "plt.tight_layout()\n",
        "plt.show()\n"
      ],
      "metadata": {
        "trusted": true,
        "execution": {
          "iopub.status.busy": "2025-07-21T17:07:39.981495Z",
          "iopub.execute_input": "2025-07-21T17:07:39.981774Z",
          "iopub.status.idle": "2025-07-21T17:07:40.258082Z",
          "shell.execute_reply.started": "2025-07-21T17:07:39.981750Z",
          "shell.execute_reply": "2025-07-21T17:07:40.257266Z"
        },
        "colab": {
          "base_uri": "https://localhost:8080/",
          "height": 607
        },
        "id": "3_kejfJF_QXP",
        "outputId": "a7b6fbe3-5684-427f-821e-e382f55aff87"
      },
      "outputs": [
        {
          "output_type": "display_data",
          "data": {
            "text/plain": [
              "<Figure size 800x600 with 2 Axes>"
            ],
            "image/png": "[encoded data removed]"
          },
          "metadata": {}
        }
      ],
      "execution_count": 79
    },
    {
      "cell_type": "markdown",
      "source": [
        "The correlation matrix showed:\n",
        "\n",
        "GPA_5_Count ↔ Year: 0.92\n",
        "\n",
        "GPA_5_Count ↔ Total_Examinees: Moderate correlation\n",
        "\n",
        "GPA_5_Count ↔ Pass_Rate: Weak to moderate correlation\n",
        "\n",
        "Since GPA_5_Count has strong correlation with Year (0.92) and is a key success metric, it's a great target for prediction."
      ],
      "metadata": {
        "id": "Rabe-tneRB63"
      }
    },
    {
      "cell_type": "code",
      "source": [
        "# Let's say df is your dataframe and you want to check outliers in GPA_5_Count\n",
        "Q1 = df['GPA_5_Count'].quantile(0.25)\n",
        "Q3 = df['GPA_5_Count'].quantile(0.75)\n",
        "IQR = Q3 - Q1\n",
        "\n",
        "# Define lower and upper bounds\n",
        "lower_bound = Q1 - 1.5 * IQR\n",
        "upper_bound = Q3 + 1.5 * IQR\n",
        "\n",
        "# Identify outliers\n",
        "outliers = df[(df['GPA_5_Count'] < lower_bound) | (df['GPA_5_Count'] > upper_bound)]\n",
        "print(\"Outliers:\\n\", outliers)"
      ],
      "metadata": {
        "colab": {
          "base_uri": "https://localhost:8080/"
        },
        "id": "lbQp_S7eRh9e",
        "outputId": "049e3ca4-c06b-4c29-e948-30b959fa234f"
      },
      "execution_count": 107,
      "outputs": [
        {
          "output_type": "stream",
          "name": "stdout",
          "text": [
            "Outliers:\n",
            " Empty DataFrame\n",
            "Columns: [Year, Total_Examinees, Pass_Rate, GPA_5_Count, Total_Examinees_scaled]\n",
            "Index: []\n"
          ]
        }
      ]
    },
    {
      "cell_type": "markdown",
      "source": [
        "No significant outliers were present. This suggests that the data is well-behaved and follows a consistent distribution across all records. As a result, no outlier removal or transformation was necessary during preprocessing."
      ],
      "metadata": {
        "id": "fWxRHJUqRwA2"
      }
    },
    {
      "cell_type": "markdown",
      "source": [
        "# Data Visualization"
      ],
      "metadata": {
        "id": "Fo8E8YbKR44h"
      }
    },
    {
      "cell_type": "markdown",
      "source": [
        "**Line Plot – Total Examinees Over Years**"
      ],
      "metadata": {
        "id": "p6yJyjQw_QXH"
      }
    },
    {
      "cell_type": "code",
      "source": [
        "plt.figure(figsize=(10, 6))\n",
        "sns.lineplot(x='Year', y='Total_Examinees', data=df, marker='o')\n",
        "plt.title('Total Examinees Over the Years')\n",
        "plt.xlabel('Year')\n",
        "plt.ylabel('Total Examinees')\n",
        "plt.grid(True)\n",
        "plt.tight_layout()\n",
        "plt.show()\n"
      ],
      "metadata": {
        "trusted": true,
        "execution": {
          "iopub.status.busy": "2025-07-21T17:07:38.640952Z",
          "iopub.execute_input": "2025-07-21T17:07:38.641278Z",
          "iopub.status.idle": "2025-07-21T17:07:39.067580Z",
          "shell.execute_reply.started": "2025-07-21T17:07:38.641245Z",
          "shell.execute_reply": "2025-07-21T17:07:39.066631Z"
        },
        "colab": {
          "base_uri": "https://localhost:8080/",
          "height": 607
        },
        "id": "NgPHbG75_QXK",
        "outputId": "b2d8c335-b191-490b-a64b-12150d45f1ec"
      },
      "outputs": [
        {
          "output_type": "display_data",
          "data": {
            "text/plain": [
              "<Figure size 1000x600 with 1 Axes>"
            ],
            "image/png": "[encoded data removed]"
          },
          "metadata": {}
        }
      ],
      "execution_count": 75
    },
    {
      "cell_type": "markdown",
      "source": [
        "Bar Plot – GPA 5 Count Over the Years"
      ],
      "metadata": {
        "id": "kes3r-nD_QXL"
      }
    },
    {
      "cell_type": "code",
      "source": [
        "plt.figure(figsize=(10, 6))\n",
        "sns.barplot(x='Year', y='GPA_5_Count', data=df, palette='viridis')\n",
        "plt.title('Number of GPA 5 Scorers Over the Years')\n",
        "plt.xticks(rotation=45)\n",
        "plt.xlabel('Year')\n",
        "plt.ylabel('GPA 5 Count')\n",
        "plt.tight_layout()\n",
        "plt.show()\n"
      ],
      "metadata": {
        "trusted": true,
        "execution": {
          "iopub.status.busy": "2025-07-21T17:07:39.068972Z",
          "iopub.execute_input": "2025-07-21T17:07:39.069275Z",
          "iopub.status.idle": "2025-07-21T17:07:39.429556Z",
          "shell.execute_reply.started": "2025-07-21T17:07:39.069254Z",
          "shell.execute_reply": "2025-07-21T17:07:39.428646Z"
        },
        "colab": {
          "base_uri": "https://localhost:8080/",
          "height": 607
        },
        "id": "0ZnbFYiE_QXM",
        "outputId": "84514452-9b43-4549-f865-1e7a95c1b80c"
      },
      "outputs": [
        {
          "output_type": "display_data",
          "data": {
            "text/plain": [
              "<Figure size 1000x600 with 1 Axes>"
            ],
            "image/png": "[encoded data removed]"
          },
          "metadata": {}
        }
      ],
      "execution_count": 76
    },
    {
      "cell_type": "markdown",
      "source": [
        " Line Plot – Pass Rate Over the Years"
      ],
      "metadata": {
        "id": "sWLZ9hgP_QXN"
      }
    },
    {
      "cell_type": "code",
      "source": [
        "plt.figure(figsize=(10, 6))\n",
        "sns.lineplot(x='Year', y='Pass_Rate', data=df, color='red', marker='o')\n",
        "plt.title('Pass Rate Over the Years')\n",
        "plt.xlabel('Year')\n",
        "plt.ylabel('Pass Rate (%)')\n",
        "plt.grid(True)\n",
        "plt.tight_layout()\n",
        "plt.show()\n"
      ],
      "metadata": {
        "trusted": true,
        "execution": {
          "iopub.status.busy": "2025-07-21T17:07:39.430455Z",
          "iopub.execute_input": "2025-07-21T17:07:39.430807Z",
          "iopub.status.idle": "2025-07-21T17:07:39.668764Z",
          "shell.execute_reply.started": "2025-07-21T17:07:39.430779Z",
          "shell.execute_reply": "2025-07-21T17:07:39.668037Z"
        },
        "colab": {
          "base_uri": "https://localhost:8080/",
          "height": 607
        },
        "id": "Vb_95DF-_QXN",
        "outputId": "4bbf438b-5855-4bc4-c37e-9ab81934b588"
      },
      "outputs": [
        {
          "output_type": "display_data",
          "data": {
            "text/plain": [
              "<Figure size 1000x600 with 1 Axes>"
            ],
            "image/png": "[encoded data removed]"
          },
          "metadata": {}
        }
      ],
      "execution_count": 77
    },
    {
      "cell_type": "code",
      "source": [
        "plt.figure(figsize=(12, 6))\n",
        "sns.lineplot(x='Year', y='Total_Examinees', data=df, label='Total Examinees')\n",
        "sns.lineplot(x='Year', y='GPA_5_Count', data=df, label='GPA 5 Count')\n",
        "sns.lineplot(x='Year', y='Pass_Rate', data=df, label='Pass Rate (%)')\n",
        "plt.title('Examination Trends Over the Years')\n",
        "plt.xlabel('Year')\n",
        "plt.ylabel('Values')\n",
        "plt.legend()\n",
        "plt.tight_layout()\n",
        "plt.show()\n"
      ],
      "metadata": {
        "trusted": true,
        "execution": {
          "iopub.status.busy": "2025-07-21T17:07:39.670949Z",
          "iopub.execute_input": "2025-07-21T17:07:39.671220Z",
          "iopub.status.idle": "2025-07-21T17:07:39.980576Z",
          "shell.execute_reply.started": "2025-07-21T17:07:39.671199Z",
          "shell.execute_reply": "2025-07-21T17:07:39.979480Z"
        },
        "colab": {
          "base_uri": "https://localhost:8080/",
          "height": 607
        },
        "id": "ahlmEr7d_QXO",
        "outputId": "e89c8193-3f7d-40b5-a29e-dc838b73ced1"
      },
      "outputs": [
        {
          "output_type": "display_data",
          "data": {
            "text/plain": [
              "<Figure size 1200x600 with 1 Axes>"
            ],
            "image/png": "[encoded data removed]"
          },
          "metadata": {}
        }
      ],
      "execution_count": 78
    },
    {
      "cell_type": "markdown",
      "source": [
        "The number of total examinees has steadily increased over time, peaking around 2020, which reflects growing participation in the SSC exams. GPA 5 achievers also show a rising trend, with a notable spike after 2019, indicating improvement in student performance. Meanwhile, the pass rate has remained relatively stable, suggesting consistent overall performance across years."
      ],
      "metadata": {
        "id": "mO8Enlw6SggE"
      }
    },
    {
      "cell_type": "markdown",
      "source": [
        "# Predictive Modelling"
      ],
      "metadata": {
        "id": "w4uA7JOISh7I"
      }
    },
    {
      "cell_type": "code",
      "source": [
        "from sklearn.model_selection import train_test_split\n",
        "from sklearn.linear_model import LinearRegression\n",
        "from sklearn.metrics import mean_squared_error, r2_score\n",
        "from sklearn.ensemble import RandomForestRegressor\n",
        "from sklearn.metrics import mean_squared_error, r2_score"
      ],
      "metadata": {
        "trusted": true,
        "execution": {
          "iopub.status.busy": "2025-07-21T17:07:40.259030Z",
          "iopub.execute_input": "2025-07-21T17:07:40.259312Z",
          "iopub.status.idle": "2025-07-21T17:07:40.263987Z",
          "shell.execute_reply.started": "2025-07-21T17:07:40.259286Z",
          "shell.execute_reply": "2025-07-21T17:07:40.263163Z"
        },
        "id": "vfRyMk4g_QXQ"
      },
      "outputs": [],
      "execution_count": 80
    },
    {
      "cell_type": "code",
      "source": [
        "from sklearn.preprocessing import StandardScaler\n",
        "scaler = StandardScaler()\n",
        "df['Total_Examinees_scaled'] = scaler.fit_transform(df[['Total_Examinees']])\n"
      ],
      "metadata": {
        "trusted": true,
        "execution": {
          "iopub.status.busy": "2025-07-21T17:07:40.264896Z",
          "iopub.execute_input": "2025-07-21T17:07:40.265153Z",
          "iopub.status.idle": "2025-07-21T17:07:40.285290Z",
          "shell.execute_reply.started": "2025-07-21T17:07:40.265133Z",
          "shell.execute_reply": "2025-07-21T17:07:40.284311Z"
        },
        "id": "xFMYIJqL_QXQ"
      },
      "outputs": [],
      "execution_count": 81
    },
    {
      "cell_type": "code",
      "source": [
        "#Data selection\n",
        "X = df[['Year', 'Total_Examinees', 'Pass_Rate']]\n",
        "y = df['GPA_5_Count']"
      ],
      "metadata": {
        "trusted": true,
        "execution": {
          "iopub.status.busy": "2025-07-21T17:07:40.286256Z",
          "iopub.execute_input": "2025-07-21T17:07:40.286538Z",
          "iopub.status.idle": "2025-07-21T17:07:40.302657Z",
          "shell.execute_reply.started": "2025-07-21T17:07:40.286510Z",
          "shell.execute_reply": "2025-07-21T17:07:40.301650Z"
        },
        "id": "NU2v1Gq5_QXR"
      },
      "outputs": [],
      "execution_count": 82
    },
    {
      "cell_type": "code",
      "source": [
        "#Train-test split\n",
        "X_train,X_test,y_train,y_test= train_test_split(X, y, test_size=0.2, random_state=0)"
      ],
      "metadata": {
        "trusted": true,
        "execution": {
          "iopub.status.busy": "2025-07-21T17:07:40.303555Z",
          "iopub.execute_input": "2025-07-21T17:07:40.303817Z",
          "iopub.status.idle": "2025-07-21T17:07:40.320104Z",
          "shell.execute_reply.started": "2025-07-21T17:07:40.303798Z",
          "shell.execute_reply": "2025-07-21T17:07:40.319209Z"
        },
        "id": "5C-SR0FP_QXS"
      },
      "outputs": [],
      "execution_count": 83
    },
    {
      "cell_type": "markdown",
      "source": [
        "***Linear Regression***"
      ],
      "metadata": {
        "id": "Gib7zvbwTHUy"
      }
    },
    {
      "cell_type": "code",
      "source": [
        "lr = LinearRegression()\n",
        "lr.fit(X_train, y_train)\n",
        "y_pred_lr = lr.predict(X_test)\n",
        "\n",
        "# Metrics\n",
        "r2_lr = r2_score(y_test, y_pred_lr)\n",
        "rmse_lr = np.sqrt(mean_squared_error(y_test, y_pred_lr))  # Manually compute RMSE\n",
        "\n",
        "# Print results\n",
        "print(\"Linear Regression\")\n",
        "print(\"R² Score:\", r2_lr)\n",
        "print(\"RMSE:\", rmse_lr)\n",
        "print(\"Intercept (b0):\", lr.intercept_)\n",
        "print(\"Coefficients (b1):\", lr.coef_)"
      ],
      "metadata": {
        "trusted": true,
        "execution": {
          "iopub.status.busy": "2025-07-21T17:07:40.322930Z",
          "iopub.execute_input": "2025-07-21T17:07:40.323336Z",
          "iopub.status.idle": "2025-07-21T17:07:40.345066Z",
          "shell.execute_reply.started": "2025-07-21T17:07:40.323312Z",
          "shell.execute_reply": "2025-07-21T17:07:40.344164Z"
        },
        "colab": {
          "base_uri": "https://localhost:8080/",
          "height": 0
        },
        "id": "9wFCXx4b_QXS",
        "outputId": "f35cc2f0-77d2-4b2b-d947-95803bf36514"
      },
      "outputs": [
        {
          "output_type": "stream",
          "name": "stdout",
          "text": [
            "Linear Regression\n",
            "R² Score: 0.8974866784114351\n",
            "RMSE: 16001.118258791583\n",
            "Intercept (b0): -13302698.416146925\n",
            "Coefficients (b1): [6.61254287e+03 1.68696714e-02 7.90978069e+02]\n"
          ]
        }
      ],
      "execution_count": 84
    },
    {
      "cell_type": "markdown",
      "source": [
        "Yes, linear regression model is strong\n",
        "But there is still room to reduce error (especially RMSE) using multi-feature modeling or non-linear regression."
      ],
      "metadata": {
        "id": "XgjJYBB2_QXT"
      }
    },
    {
      "cell_type": "markdown",
      "source": [
        "***Random Forest Regression***"
      ],
      "metadata": {
        "id": "C8MDqz5NTKil"
      }
    },
    {
      "cell_type": "code",
      "source": [
        "rf = RandomForestRegressor(n_estimators=100, random_state=42)\n",
        "rf.fit(X_train, y_train)\n",
        "y_pred_rf = rf.predict(X_test)\n",
        "\n",
        "# Metrics\n",
        "r2_rf = r2_score(y_test, y_pred_rf)\n",
        "rmse_rf = np.sqrt(mean_squared_error(y_test, y_pred_rf))  # Fixed RMSE computation\n",
        "\n",
        "# Print results\n",
        "print(\"Random Forest Regressor\")\n",
        "print(\"R² Score:\", r2_rf)\n",
        "print(\"RMSE:\", rmse_rf)\n"
      ],
      "metadata": {
        "trusted": true,
        "execution": {
          "iopub.status.busy": "2025-07-21T17:07:40.345958Z",
          "iopub.execute_input": "2025-07-21T17:07:40.346272Z",
          "iopub.status.idle": "2025-07-21T17:07:40.484124Z",
          "shell.execute_reply.started": "2025-07-21T17:07:40.346249Z",
          "shell.execute_reply": "2025-07-21T17:07:40.483238Z"
        },
        "colab": {
          "base_uri": "https://localhost:8080/",
          "height": 0
        },
        "id": "rRwb3U-2_QXU",
        "outputId": "57ea8d8b-a274-4fbc-e9c8-f7f549904893"
      },
      "outputs": [
        {
          "output_type": "stream",
          "name": "stdout",
          "text": [
            "Random Forest Regressor\n",
            "R² Score: 0.9952842966281508\n",
            "RMSE: 3431.8904939843283\n"
          ]
        }
      ],
      "execution_count": 85
    },
    {
      "cell_type": "markdown",
      "source": [
        "***Decision Tree Regression***"
      ],
      "metadata": {
        "id": "Xihwhd-QTTZC"
      }
    },
    {
      "cell_type": "code",
      "source": [
        "dt = DecisionTreeRegressor(random_state=42)\n",
        "dt.fit(X_train, y_train)\n",
        "y_pred_dt = dt.predict(X_test)\n",
        "\n",
        "# Metrics\n",
        "r2_dt = r2_score(y_test, y_pred_dt)\n",
        "rmse_dt = np.sqrt(mean_squared_error(y_test, y_pred_dt))  # Fixed RMSE computation\n",
        "\n",
        "# Print results\n",
        "print(\"Decision Tree Regressor\")\n",
        "print(\"R² Score:\", r2_dt)\n",
        "print(\"RMSE:\", rmse_dt)"
      ],
      "metadata": {
        "trusted": true,
        "execution": {
          "iopub.status.busy": "2025-07-21T17:07:40.485060Z",
          "iopub.execute_input": "2025-07-21T17:07:40.485399Z",
          "iopub.status.idle": "2025-07-21T17:07:40.497089Z",
          "shell.execute_reply.started": "2025-07-21T17:07:40.485379Z",
          "shell.execute_reply": "2025-07-21T17:07:40.496165Z"
        },
        "colab": {
          "base_uri": "https://localhost:8080/",
          "height": 0
        },
        "id": "gOg2lOBs_QXV",
        "outputId": "5d2eabc9-0765-404a-b998-d3a818522e99"
      },
      "outputs": [
        {
          "output_type": "stream",
          "name": "stdout",
          "text": [
            "Decision Tree Regressor\n",
            "R² Score: 0.9148431086661747\n",
            "RMSE: 14583.779242706603\n"
          ]
        }
      ],
      "execution_count": 87
    },
    {
      "cell_type": "markdown",
      "source": [
        "***Lasso Regression***"
      ],
      "metadata": {
        "id": "_8JXMBLUTfRv"
      }
    },
    {
      "cell_type": "code",
      "source": [
        "from sklearn.linear_model import Lasso\n",
        "from sklearn.metrics import r2_score, mean_squared_error\n",
        "import numpy as np\n",
        "\n",
        "lasso = Lasso(alpha=0.1)  # You can tune alpha if needed\n",
        "lasso.fit(X_train, y_train)\n",
        "y_pred_lasso = lasso.predict(X_test)\n",
        "\n",
        "# Save metrics\n",
        "r2_lasso = r2_score(y_test, y_pred_lasso)\n",
        "rmse_lasso = np.sqrt(mean_squared_error(y_test, y_pred_lasso))  # Fixed RMSE\n",
        "\n",
        "# Print results\n",
        "print(\"Lasso Regression\")\n",
        "print(\"R² Score:\", r2_lasso)\n",
        "print(\"RMSE:\", rmse_lasso)\n",
        "print(\"Intercept:\", lasso.intercept_)\n",
        "print(\"Coefficients:\", lasso.coef_)\n",
        "\n"
      ],
      "metadata": {
        "trusted": true,
        "execution": {
          "iopub.status.busy": "2025-07-21T17:07:40.498029Z",
          "iopub.execute_input": "2025-07-21T17:07:40.498391Z",
          "iopub.status.idle": "2025-07-21T17:07:40.517926Z",
          "shell.execute_reply.started": "2025-07-21T17:07:40.498365Z",
          "shell.execute_reply": "2025-07-21T17:07:40.517072Z"
        },
        "colab": {
          "base_uri": "https://localhost:8080/",
          "height": 0
        },
        "id": "ySdEknOm_QXW",
        "outputId": "0616df47-05e8-4c1d-e987-4de5129f0fda"
      },
      "outputs": [
        {
          "output_type": "stream",
          "name": "stdout",
          "text": [
            "Lasso Regression\n",
            "R² Score: 0.8974865815718166\n",
            "RMSE: 16001.125816549922\n",
            "Intercept: -13302677.251189405\n",
            "Coefficients: [6.61253223e+03 1.68697986e-02 7.90979217e+02]\n"
          ]
        }
      ],
      "execution_count": 88
    },
    {
      "cell_type": "markdown",
      "source": [
        "***Ridge Regression***"
      ],
      "metadata": {
        "id": "ssuqW5NgTh6l"
      }
    },
    {
      "cell_type": "code",
      "source": [
        "from sklearn.linear_model import Ridge\n",
        "from sklearn.metrics import r2_score, mean_squared_error\n",
        "import numpy as np\n",
        "\n",
        "ridge = Ridge(alpha=1.0)\n",
        "ridge.fit(X_train, y_train)\n",
        "y_pred_ridge = ridge.predict(X_test)\n",
        "\n",
        "# Save metrics into variables\n",
        "r2_ridge = r2_score(y_test, y_pred_ridge)\n",
        "rmse_ridge = np.sqrt(mean_squared_error(y_test, y_pred_ridge))  # Fixed RMSE\n",
        "\n",
        "# Print metrics\n",
        "print(\"Ridge Regression\")\n",
        "print(\"R² Score:\", r2_ridge)\n",
        "print(\"RMSE:\", rmse_ridge)\n",
        "print(\"Intercept:\", ridge.intercept_)\n",
        "print(\"Coefficients:\", ridge.coef_)\n"
      ],
      "metadata": {
        "trusted": true,
        "execution": {
          "iopub.status.busy": "2025-07-21T17:07:40.518913Z",
          "iopub.execute_input": "2025-07-21T17:07:40.519813Z",
          "iopub.status.idle": "2025-07-21T17:07:40.540929Z",
          "shell.execute_reply.started": "2025-07-21T17:07:40.519782Z",
          "shell.execute_reply": "2025-07-21T17:07:40.540006Z"
        },
        "colab": {
          "base_uri": "https://localhost:8080/",
          "height": 0
        },
        "id": "vqQKHMOp_QXX",
        "outputId": "1dbe055d-7673-4cb1-bc59-015568eabaa8"
      },
      "outputs": [
        {
          "output_type": "stream",
          "name": "stdout",
          "text": [
            "Ridge Regression\n",
            "R² Score: 0.896965900828312\n",
            "RMSE: 16041.710384869875\n",
            "Intercept: -13221747.847020956\n",
            "Coefficients: [6.57177392e+03 1.73180531e-02 7.97208651e+02]\n"
          ]
        }
      ],
      "execution_count": 89
    },
    {
      "cell_type": "code",
      "source": [
        "import pandas as pd\n",
        "import numpy as np\n",
        "import matplotlib.pyplot as plt\n",
        "import seaborn as sns\n",
        "\n",
        "# Store model names and their metrics\n",
        "results = {\n",
        "    'Model': ['Linear', 'Ridge', 'Lasso', 'Decision Tree', 'Random Forest'],\n",
        "    'R2_Score': [r2_lr, r2_ridge, r2_lasso, r2_dt, r2_rf],\n",
        "    'RMSE': [rmse_lr, rmse_ridge, rmse_lasso, rmse_dt, rmse_rf]\n",
        "}\n",
        "\n",
        "results_df = pd.DataFrame(results)"
      ],
      "metadata": {
        "trusted": true,
        "execution": {
          "iopub.status.busy": "2025-07-21T17:07:40.541883Z",
          "iopub.execute_input": "2025-07-21T17:07:40.542524Z",
          "iopub.status.idle": "2025-07-21T17:07:40.554972Z",
          "shell.execute_reply.started": "2025-07-21T17:07:40.542493Z",
          "shell.execute_reply": "2025-07-21T17:07:40.554005Z"
        },
        "id": "BpHFm2IG_QXY"
      },
      "outputs": [],
      "execution_count": 90
    },
    {
      "cell_type": "code",
      "source": [
        "plt.figure(figsize=(10, 6))\n",
        "sns.barplot(x='Model', y='R2_Score', data=results_df, palette='viridis')\n",
        "plt.title('R² Score Comparison of Models')\n",
        "plt.ylabel('R² Score')\n",
        "plt.ylim(0, 1.1)\n",
        "plt.xticks(rotation=45)\n",
        "plt.grid(axis='y')\n",
        "plt.show()\n"
      ],
      "metadata": {
        "trusted": true,
        "execution": {
          "iopub.status.busy": "2025-07-21T17:07:40.555882Z",
          "iopub.execute_input": "2025-07-21T17:07:40.556282Z",
          "iopub.status.idle": "2025-07-21T17:07:40.744526Z",
          "shell.execute_reply.started": "2025-07-21T17:07:40.556256Z",
          "shell.execute_reply": "2025-07-21T17:07:40.743634Z"
        },
        "colab": {
          "base_uri": "https://localhost:8080/",
          "height": 634
        },
        "id": "jNomkEyv_QXZ",
        "outputId": "9b8a72fa-d65f-4652-edc9-d75960dab706"
      },
      "outputs": [
        {
          "output_type": "display_data",
          "data": {
            "text/plain": [
              "<Figure size 1000x600 with 1 Axes>"
            ],
            "image/png": "[encoded data removed]"
          },
          "metadata": {}
        }
      ],
      "execution_count": 91
    },
    {
      "cell_type": "code",
      "source": [
        "plt.figure(figsize=(10, 6))\n",
        "sns.barplot(x='Model', y='RMSE', data=results_df, palette='magma')\n",
        "plt.title('RMSE Comparison of Models')\n",
        "plt.ylabel('Root Mean Squared Error')\n",
        "plt.xticks(rotation=45)\n",
        "plt.grid(axis='y')\n",
        "plt.show()\n"
      ],
      "metadata": {
        "trusted": true,
        "execution": {
          "iopub.status.busy": "2025-07-21T17:07:40.745731Z",
          "iopub.execute_input": "2025-07-21T17:07:40.745980Z",
          "iopub.status.idle": "2025-07-21T17:07:40.947096Z",
          "shell.execute_reply.started": "2025-07-21T17:07:40.745954Z",
          "shell.execute_reply": "2025-07-21T17:07:40.946211Z"
        },
        "colab": {
          "base_uri": "https://localhost:8080/",
          "height": 634
        },
        "id": "RAUDWWzb_QXZ",
        "outputId": "896e20c7-4e6b-40d6-fc0d-92450a80025c"
      },
      "outputs": [
        {
          "output_type": "display_data",
          "data": {
            "text/plain": [
              "<Figure size 1000x600 with 1 Axes>"
            ],
            "image/png": "[encoded data removed]"
          },
          "metadata": {}
        }
      ],
      "execution_count": 92
    },
    {
      "cell_type": "markdown",
      "source": [
        "Best Performing Model: Random Forest\n",
        "1. R² Score = 0.995 → Explains 99.5% of the variation in GPA_5_Count.\n",
        "2. RMSE = 3431 → Lowest error, indicating the most accurate predictions."
      ],
      "metadata": {
        "id": "v1xVSlAg_QXa"
      }
    },
    {
      "cell_type": "markdown",
      "source": [
        "# **Prediction**"
      ],
      "metadata": {
        "id": "sBnw7rlAT1al"
      }
    },
    {
      "cell_type": "code",
      "source": [
        "try:\n",
        "    print(\"\\n Predict GPA_5_Count:\")\n",
        "    year = int(input(\"Enter Year: \"))\n",
        "    total_examinees = int(input(\"Enter Total Examinees: \"))\n",
        "    pass_rate = float(input(\"Enter Pass Rate (%): \"))\n",
        "\n",
        "    # Create input DataFrame\n",
        "    input_data = pd.DataFrame({\n",
        "        'Year': [year],\n",
        "        'Total_Examinees': [total_examinees],\n",
        "        'Pass_Rate': [pass_rate]\n",
        "    })\n",
        "\n",
        "    prediction = rf.predict(input_data)\n",
        "    print(f\"\\n📊 Predicted GPA_5_Count for {year}: {int(prediction[0])}\")\n",
        "\n",
        "except Exception as e:\n",
        "    print(\"❌ Error in input or prediction:\", e)\n"
      ],
      "metadata": {
        "trusted": true,
        "execution": {
          "iopub.status.busy": "2025-07-21T17:07:40.948046Z",
          "iopub.execute_input": "2025-07-21T17:07:40.948281Z",
          "iopub.status.idle": "2025-07-21T17:07:54.525429Z",
          "shell.execute_reply.started": "2025-07-21T17:07:40.948253Z",
          "shell.execute_reply": "2025-07-21T17:07:54.524644Z"
        },
        "colab": {
          "base_uri": "https://localhost:8080/",
          "height": 0
        },
        "id": "ncxGpOb1_QXl",
        "outputId": "5709971a-bf19-4d3f-f6af-69efeeef2ee7"
      },
      "outputs": [
        {
          "output_type": "stream",
          "name": "stdout",
          "text": [
            "\n",
            "🔮 Predict GPA_5_Count:\n",
            "Enter Year: 2026\n",
            "Enter Total Examinees: 65670030\n",
            "Enter Pass Rate (%): 78\n",
            "\n",
            "📊 Predicted GPA_5_Count for 2026: 174832\n"
          ]
        }
      ],
      "execution_count": 93
    }
  ]
}